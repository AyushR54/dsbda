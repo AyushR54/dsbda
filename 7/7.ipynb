{
 "cells": [
  {
   "cell_type": "code",
   "execution_count": 2,
   "id": "214c9cc5-1cbf-45e8-a5a2-37110022495b",
   "metadata": {},
   "outputs": [
    {
     "name": "stderr",
     "output_type": "stream",
     "text": [
      "[nltk_data] Downloading package punkt to\n",
      "[nltk_data]     C:\\Users\\Ayush\\AppData\\Roaming\\nltk_data...\n",
      "[nltk_data]   Unzipping tokenizers\\punkt.zip.\n",
      "[nltk_data] Downloading package wordnet to\n",
      "[nltk_data]     C:\\Users\\Ayush\\AppData\\Roaming\\nltk_data...\n",
      "[nltk_data] Downloading package averaged_perceptron_tagger to\n",
      "[nltk_data]     C:\\Users\\Ayush\\AppData\\Roaming\\nltk_data...\n",
      "[nltk_data]   Unzipping taggers\\averaged_perceptron_tagger.zip.\n",
      "[nltk_data] Downloading package stopwords to\n",
      "[nltk_data]     C:\\Users\\Ayush\\AppData\\Roaming\\nltk_data...\n",
      "[nltk_data]   Unzipping corpora\\stopwords.zip.\n"
     ]
    }
   ],
   "source": [
    "import nltk\n",
    "nltk.download('punkt')\n",
    "nltk.download('wordnet')\n",
    "nltk.download('averaged_perceptron_tagger')\n",
    "nltk.download('stopwords')\n",
    "from nltk import sent_tokenize\n",
    "from nltk import word_tokenize\n",
    "from nltk.corpus import stopwords"
   ]
  },
  {
   "cell_type": "markdown",
   "id": "6b586cdf-fc9d-44c9-94bb-75a57509e731",
   "metadata": {},
   "source": [
    "## Tokenization"
   ]
  },
  {
   "cell_type": "code",
   "execution_count": 3,
   "id": "e1e8d767-659b-4ebf-9d23-0a50cd4cdb87",
   "metadata": {},
   "outputs": [],
   "source": [
    "text = \"FC Barcelona is set to win the UCL for the season. Messi might win Balon Dor. Suarez might be runner up.\""
   ]
  },
  {
   "cell_type": "code",
   "execution_count": 4,
   "id": "d088bc0c-6102-49f2-9a75-a3666cb8419d",
   "metadata": {},
   "outputs": [
    {
     "name": "stdout",
     "output_type": "stream",
     "text": [
      "['FC Barcelona is set to win the UCL for the season.', 'Messi might win Balon Dor.', 'Suarez might be runner up.']\n"
     ]
    }
   ],
   "source": [
    "token_sents = nltk.sent_tokenize(text)\n",
    "print(token_sents)"
   ]
  },
  {
   "cell_type": "code",
   "execution_count": 5,
   "id": "5c333979-a8c8-4a5b-a6e4-078f49e43b7b",
   "metadata": {},
   "outputs": [
    {
     "name": "stdout",
     "output_type": "stream",
     "text": [
      "['FC', 'Barcelona', 'is', 'set', 'to', 'win', 'the', 'UCL', 'for', 'the', 'season', '.', 'Messi', 'might', 'win', 'Balon', 'Dor', '.', 'Suarez', 'might', 'be', 'runner', 'up', '.']\n"
     ]
    }
   ],
   "source": [
    "token_words = nltk.word_tokenize(text)\n",
    "print(token_words)"
   ]
  },
  {
   "cell_type": "code",
   "execution_count": 6,
   "id": "159af94d-71a2-4f30-9332-0a569a14d671",
   "metadata": {},
   "outputs": [],
   "source": [
    "from nltk.stem import PorterStemmer\n",
    "from nltk.stem.snowball import SnowballStemmer\n",
    "from nltk.stem import LancasterStemmer"
   ]
  },
  {
   "cell_type": "code",
   "execution_count": 7,
   "id": "21ee3104-dcfc-47dc-a25a-d9d905692d9a",
   "metadata": {},
   "outputs": [
    {
     "name": "stdout",
     "output_type": "stream",
     "text": [
      "['fc', 'barcelona', 'is', 'set', 'to', 'win', 'the', 'ucl', 'for', 'the', 'season', '.', 'messi', 'might', 'win', 'balon', 'dor', '.', 'suarez', 'might', 'be', 'runner', 'up', '.']\n"
     ]
    }
   ],
   "source": [
    "stem = []\n",
    "for i in token_words:\n",
    "    ps = PorterStemmer()\n",
    "    stem_word = ps.stem(i)\n",
    "    stem.append(stem_word)\n",
    "print(stem)"
   ]
  },
  {
   "cell_type": "markdown",
   "id": "1e5b5b24-acec-4786-9a56-88c3534441a1",
   "metadata": {},
   "source": [
    "## Lemmatization"
   ]
  },
  {
   "cell_type": "code",
   "execution_count": 9,
   "id": "a8546562-71df-4b36-9b26-eb9eb588adb4",
   "metadata": {},
   "outputs": [],
   "source": [
    "from nltk.stem import WordNetLemmatizer\n",
    "lemmatizer = WordNetLemmatizer()"
   ]
  },
  {
   "cell_type": "code",
   "execution_count": 12,
   "id": "673a9512-9cca-4c4a-9a20-9e4bb1f7860a",
   "metadata": {},
   "outputs": [
    {
     "name": "stdout",
     "output_type": "stream",
     "text": [
      "fc barcelona is set to win the ucl for the season . messi might win balon dor . suarez might be runner up .\n"
     ]
    }
   ],
   "source": [
    "lemmatized_output = \" \".join([lemmatizer.lemmatize(w) for w in stem])\n",
    "print(lemmatized_output)"
   ]
  },
  {
   "cell_type": "code",
   "execution_count": 10,
   "id": "2e610f05-c711-447a-a422-9f5eb2a1e3f2",
   "metadata": {},
   "outputs": [
    {
     "name": "stdout",
     "output_type": "stream",
     "text": [
      "['fc', 'barcelona', 'is', 'set', 'to', 'win', 'the', 'ucl', 'for', 'the', 'season', '.', 'messi', 'might', 'win', 'balon', 'dor', '.', 'suarez', 'might', 'be', 'runner', 'up', '.']\n"
     ]
    }
   ],
   "source": [
    "lm = []\n",
    "for i in stem:\n",
    "    lemmatized_word = lemmatizer.lemmatize(i)\n",
    "    lm.append(lemmatized_word)\n",
    "print(lm)"
   ]
  },
  {
   "cell_type": "markdown",
   "id": "a27796a9-9cc0-4b2e-8803-6300e980b38f",
   "metadata": {},
   "source": [
    "## Part of Speech Tagging"
   ]
  },
  {
   "cell_type": "code",
   "execution_count": 13,
   "id": "4581dcad-5433-45f1-a060-efc47eee0011",
   "metadata": {},
   "outputs": [
    {
     "name": "stdout",
     "output_type": "stream",
     "text": [
      "Parts of speech:  [('fc', 'NN'), ('barcelona', 'NN'), ('is', 'VBZ'), ('set', 'VBN'), ('to', 'TO'), ('win', 'VB'), ('the', 'DT'), ('ucl', 'NN'), ('for', 'IN'), ('the', 'DT'), ('season', 'NN'), ('.', '.'), ('messi', 'NN'), ('might', 'MD'), ('win', 'VB'), ('balon', 'NN'), ('dor', 'NN'), ('.', '.'), ('suarez', 'NN'), ('might', 'MD'), ('be', 'VB'), ('runner', 'VBN'), ('up', 'RP'), ('.', '.')]\n"
     ]
    }
   ],
   "source": [
    "print(\"Parts of speech: \", nltk.pos_tag(lm))"
   ]
  },
  {
   "cell_type": "code",
   "execution_count": 14,
   "id": "34e343c5-011f-46d0-9285-027345856c48",
   "metadata": {},
   "outputs": [
    {
     "name": "stdout",
     "output_type": "stream",
     "text": [
      "['i', 'me', 'my', 'myself', 'we', 'our', 'ours', 'ourselves', 'you', \"you're\", \"you've\", \"you'll\", \"you'd\", 'your', 'yours', 'yourself', 'yourselves', 'he', 'him', 'his', 'himself', 'she', \"she's\", 'her', 'hers', 'herself', 'it', \"it's\", 'its', 'itself', 'they', 'them', 'their', 'theirs', 'themselves', 'what', 'which', 'who', 'whom', 'this', 'that', \"that'll\", 'these', 'those', 'am', 'is', 'are', 'was', 'were', 'be', 'been', 'being', 'have', 'has', 'had', 'having', 'do', 'does', 'did', 'doing', 'a', 'an', 'the', 'and', 'but', 'if', 'or', 'because', 'as', 'until', 'while', 'of', 'at', 'by', 'for', 'with', 'about', 'against', 'between', 'into', 'through', 'during', 'before', 'after', 'above', 'below', 'to', 'from', 'up', 'down', 'in', 'out', 'on', 'off', 'over', 'under', 'again', 'further', 'then', 'once', 'here', 'there', 'when', 'where', 'why', 'how', 'all', 'any', 'both', 'each', 'few', 'more', 'most', 'other', 'some', 'such', 'no', 'nor', 'not', 'only', 'own', 'same', 'so', 'than', 'too', 'very', 's', 't', 'can', 'will', 'just', 'don', \"don't\", 'should', \"should've\", 'now', 'd', 'll', 'm', 'o', 're', 've', 'y', 'ain', 'aren', \"aren't\", 'couldn', \"couldn't\", 'didn', \"didn't\", 'doesn', \"doesn't\", 'hadn', \"hadn't\", 'hasn', \"hasn't\", 'haven', \"haven't\", 'isn', \"isn't\", 'ma', 'mightn', \"mightn't\", 'mustn', \"mustn't\", 'needn', \"needn't\", 'shan', \"shan't\", 'shouldn', \"shouldn't\", 'wasn', \"wasn't\", 'weren', \"weren't\", 'won', \"won't\", 'wouldn', \"wouldn't\"]\n"
     ]
    }
   ],
   "source": [
    "sw_nltk = stopwords.words('english')\n",
    "print(sw_nltk)"
   ]
  },
  {
   "cell_type": "code",
   "execution_count": 15,
   "id": "c05df514-4dc9-48c8-aa12-cede9181cf19",
   "metadata": {},
   "outputs": [
    {
     "name": "stdout",
     "output_type": "stream",
     "text": [
      "FC Barcelona set win UCL season. Messi might win Balon Dor. Suarez might runner up.\n"
     ]
    }
   ],
   "source": [
    "words = [word for word in text.split() if word.lower() not in sw_nltk]\n",
    "new_text = \" \".join(words)\n",
    "print(new_text)"
   ]
  },
  {
   "cell_type": "code",
   "execution_count": null,
   "id": "ff990877-943c-49bf-afa8-7cf8e6c18497",
   "metadata": {},
   "outputs": [],
   "source": []
  }
 ],
 "metadata": {
  "kernelspec": {
   "display_name": "Python 3 (ipykernel)",
   "language": "python",
   "name": "python3"
  },
  "language_info": {
   "codemirror_mode": {
    "name": "ipython",
    "version": 3
   },
   "file_extension": ".py",
   "mimetype": "text/x-python",
   "name": "python",
   "nbconvert_exporter": "python",
   "pygments_lexer": "ipython3",
   "version": "3.11.7"
  }
 },
 "nbformat": 4,
 "nbformat_minor": 5
}
