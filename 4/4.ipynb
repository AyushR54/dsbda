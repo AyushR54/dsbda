{
 "cells": [
  {
   "cell_type": "code",
   "execution_count": 1,
   "id": "93934c26-0e97-42d5-bc99-69cae69d120b",
   "metadata": {},
   "outputs": [],
   "source": [
    "import numpy as np\n",
    "import pandas as pd\n",
    "import matplotlib.pyplot as plt\n",
    "import seaborn as sns"
   ]
  },
  {
   "cell_type": "code",
   "execution_count": 2,
   "id": "74867ea6-f5eb-4adf-af2b-3f93f01b90e7",
   "metadata": {},
   "outputs": [],
   "source": [
    "df = pd.read_csv('BostonHousing.csv')"
   ]
  },
  {
   "cell_type": "code",
   "execution_count": 3,
   "id": "2972f1d9-4750-4120-8905-7849424fc126",
   "metadata": {},
   "outputs": [
    {
     "data": {
      "text/html": [
       "<div>\n",
       "<style scoped>\n",
       "    .dataframe tbody tr th:only-of-type {\n",
       "        vertical-align: middle;\n",
       "    }\n",
       "\n",
       "    .dataframe tbody tr th {\n",
       "        vertical-align: top;\n",
       "    }\n",
       "\n",
       "    .dataframe thead th {\n",
       "        text-align: right;\n",
       "    }\n",
       "</style>\n",
       "<table border=\"1\" class=\"dataframe\">\n",
       "  <thead>\n",
       "    <tr style=\"text-align: right;\">\n",
       "      <th></th>\n",
       "      <th>crim</th>\n",
       "      <th>zn</th>\n",
       "      <th>indus</th>\n",
       "      <th>chas</th>\n",
       "      <th>nox</th>\n",
       "      <th>rm</th>\n",
       "      <th>age</th>\n",
       "      <th>dis</th>\n",
       "      <th>rad</th>\n",
       "      <th>tax</th>\n",
       "      <th>ptratio</th>\n",
       "      <th>b</th>\n",
       "      <th>lstat</th>\n",
       "      <th>medv</th>\n",
       "    </tr>\n",
       "  </thead>\n",
       "  <tbody>\n",
       "    <tr>\n",
       "      <th>0</th>\n",
       "      <td>0.00632</td>\n",
       "      <td>18.0</td>\n",
       "      <td>2.31</td>\n",
       "      <td>0</td>\n",
       "      <td>0.538</td>\n",
       "      <td>6.575</td>\n",
       "      <td>65.2</td>\n",
       "      <td>4.0900</td>\n",
       "      <td>1</td>\n",
       "      <td>296</td>\n",
       "      <td>15.3</td>\n",
       "      <td>396.90</td>\n",
       "      <td>4.98</td>\n",
       "      <td>24.0</td>\n",
       "    </tr>\n",
       "    <tr>\n",
       "      <th>1</th>\n",
       "      <td>0.02731</td>\n",
       "      <td>0.0</td>\n",
       "      <td>7.07</td>\n",
       "      <td>0</td>\n",
       "      <td>0.469</td>\n",
       "      <td>6.421</td>\n",
       "      <td>78.9</td>\n",
       "      <td>4.9671</td>\n",
       "      <td>2</td>\n",
       "      <td>242</td>\n",
       "      <td>17.8</td>\n",
       "      <td>396.90</td>\n",
       "      <td>9.14</td>\n",
       "      <td>21.6</td>\n",
       "    </tr>\n",
       "    <tr>\n",
       "      <th>2</th>\n",
       "      <td>0.02729</td>\n",
       "      <td>0.0</td>\n",
       "      <td>7.07</td>\n",
       "      <td>0</td>\n",
       "      <td>0.469</td>\n",
       "      <td>7.185</td>\n",
       "      <td>61.1</td>\n",
       "      <td>4.9671</td>\n",
       "      <td>2</td>\n",
       "      <td>242</td>\n",
       "      <td>17.8</td>\n",
       "      <td>392.83</td>\n",
       "      <td>4.03</td>\n",
       "      <td>34.7</td>\n",
       "    </tr>\n",
       "    <tr>\n",
       "      <th>3</th>\n",
       "      <td>0.03237</td>\n",
       "      <td>0.0</td>\n",
       "      <td>2.18</td>\n",
       "      <td>0</td>\n",
       "      <td>0.458</td>\n",
       "      <td>6.998</td>\n",
       "      <td>45.8</td>\n",
       "      <td>6.0622</td>\n",
       "      <td>3</td>\n",
       "      <td>222</td>\n",
       "      <td>18.7</td>\n",
       "      <td>394.63</td>\n",
       "      <td>2.94</td>\n",
       "      <td>33.4</td>\n",
       "    </tr>\n",
       "    <tr>\n",
       "      <th>4</th>\n",
       "      <td>0.06905</td>\n",
       "      <td>0.0</td>\n",
       "      <td>2.18</td>\n",
       "      <td>0</td>\n",
       "      <td>0.458</td>\n",
       "      <td>7.147</td>\n",
       "      <td>54.2</td>\n",
       "      <td>6.0622</td>\n",
       "      <td>3</td>\n",
       "      <td>222</td>\n",
       "      <td>18.7</td>\n",
       "      <td>396.90</td>\n",
       "      <td>5.33</td>\n",
       "      <td>36.2</td>\n",
       "    </tr>\n",
       "  </tbody>\n",
       "</table>\n",
       "</div>"
      ],
      "text/plain": [
       "      crim    zn  indus  chas    nox     rm   age     dis  rad  tax  ptratio  \\\n",
       "0  0.00632  18.0   2.31     0  0.538  6.575  65.2  4.0900    1  296     15.3   \n",
       "1  0.02731   0.0   7.07     0  0.469  6.421  78.9  4.9671    2  242     17.8   \n",
       "2  0.02729   0.0   7.07     0  0.469  7.185  61.1  4.9671    2  242     17.8   \n",
       "3  0.03237   0.0   2.18     0  0.458  6.998  45.8  6.0622    3  222     18.7   \n",
       "4  0.06905   0.0   2.18     0  0.458  7.147  54.2  6.0622    3  222     18.7   \n",
       "\n",
       "        b  lstat  medv  \n",
       "0  396.90   4.98  24.0  \n",
       "1  396.90   9.14  21.6  \n",
       "2  392.83   4.03  34.7  \n",
       "3  394.63   2.94  33.4  \n",
       "4  396.90   5.33  36.2  "
      ]
     },
     "execution_count": 3,
     "metadata": {},
     "output_type": "execute_result"
    }
   ],
   "source": [
    "df.head()"
   ]
  },
  {
   "cell_type": "code",
   "execution_count": 4,
   "id": "e929a74d-9b5a-4772-ae5e-c5d91a2f539f",
   "metadata": {},
   "outputs": [],
   "source": [
    "x = df[['crim', 'zn', 'indus', 'chas', 'nox', 'rm', 'age', 'dis', 'rad', 'tax', 'ptratio', 'b', 'lstat']]\n",
    "y = df['medv']"
   ]
  },
  {
   "cell_type": "code",
   "execution_count": 5,
   "id": "727e3bc9-f87d-4675-a47d-0ae66b379b3f",
   "metadata": {},
   "outputs": [],
   "source": [
    "from sklearn.model_selection import train_test_split\n",
    "x_train, x_test, y_train, y_test = train_test_split(x, y, test_size = 0.3, random_state = 42)"
   ]
  },
  {
   "cell_type": "code",
   "execution_count": 6,
   "id": "33ee7226-e155-4a54-b55b-c98c459e0486",
   "metadata": {},
   "outputs": [],
   "source": [
    "from sklearn.preprocessing import StandardScaler\n",
    "sc = StandardScaler()\n",
    "x_train = sc.fit_transform(x_train)\n",
    "x_test = sc.fit_transform(x_test)"
   ]
  },
  {
   "cell_type": "code",
   "execution_count": 7,
   "id": "5c2a787a-cf65-4cdf-ae71-32e581855e3f",
   "metadata": {},
   "outputs": [],
   "source": [
    "from sklearn.linear_model import LinearRegression\n",
    "lr = LinearRegression()\n",
    "lr.fit(x_train, y_train)\n",
    "y_pred = lr.predict(x_test)"
   ]
  },
  {
   "cell_type": "code",
   "execution_count": 8,
   "id": "0f4e938d-8377-4f75-98c3-93d314b2323a",
   "metadata": {},
   "outputs": [
    {
     "name": "stdout",
     "output_type": "stream",
     "text": [
      "[30.77834822 38.66581541 16.96705276 26.79035818 20.36068008 24.89386356\n",
      " 18.98948959 15.44554414 24.50205701 22.12455513 27.16709892 20.60218969\n",
      " -4.91312377 23.45520373 20.44300739 27.97454642 21.82481134  6.80793603\n",
      " 43.13876668 19.08804672 28.93737925 31.91943808 12.05148619 25.41493356\n",
      " 19.60614164 17.23543021 24.61263361 16.907528   24.25623469 20.73183868\n",
      " 23.98650325 26.66317526 27.45468242 19.57475267 18.15660164 19.94422395\n",
      " 33.04896681 21.26475982 25.83570427 26.36436267 15.22545112 33.61610719\n",
      " 45.24385042 18.83620774 28.91584593 18.49470905 14.91054896 27.65199578\n",
      " 21.75498681 32.36964545 23.36168054 36.5955736  16.82098601 27.59874838\n",
      " 42.39261672 24.39945725 20.42785358 34.46608842 26.52068304 14.0304141\n",
      " 24.03170468 32.40960974 33.59067192 17.33583061 22.46180876 18.28308242\n",
      " 22.01801285 27.57486429 32.54366102 13.95067422 21.96577449 29.21079363\n",
      " 12.65101384 17.15704754 25.56951945  6.99478235 22.73334313 43.93983367\n",
      " 20.03571324 10.919632   22.50309934 14.46771561 23.07376266 10.52688537\n",
      " 24.71136556 34.38262811 21.02382869 27.04400189 30.94450114 21.54068028\n",
      " 27.48732329  7.31708375 21.56254771 16.57285469 14.43338806 22.26113509\n",
      " 26.42907376  1.28686278 15.98179144 18.13930581 23.62097091 26.3208465\n",
      " 12.12867204 20.66733158 25.32719152 14.23008516 19.48076211 26.9289352\n",
      " 22.02461937 26.11181168  9.83654844 21.30376854 23.13155127 28.99045653\n",
      " 34.46072055 17.31422502 36.81803955 14.0639201  22.38719669 30.47720506\n",
      " 16.96724187 26.23079837  6.30719991 25.6891189  27.44337177 24.41723783\n",
      " 26.72754089 35.52652858 23.8342233  41.30725508 15.51580837 27.19720138\n",
      " 18.99437335 22.50080685 11.95557604 23.13463621 23.4954008  34.27666272\n",
      " 33.53948706 16.55984176 17.98511069 31.00757978 26.51337445 18.4765867\n",
      "  7.99167823 28.32517448 26.1665569  19.032183   14.47502635 42.88762567\n",
      " 18.69947012 19.82530166]\n"
     ]
    }
   ],
   "source": [
    "print(y_pred)"
   ]
  },
  {
   "cell_type": "code",
   "execution_count": 9,
   "id": "8317490b-9f83-4c99-abff-aefd56a52ed8",
   "metadata": {},
   "outputs": [
    {
     "name": "stdout",
     "output_type": "stream",
     "text": [
      "Root mean squared error: 4.912717301969203\n"
     ]
    }
   ],
   "source": [
    "from sklearn.metrics import mean_squared_error\n",
    "rmse = np.sqrt(mean_squared_error(y_test, y_pred))\n",
    "print(\"Root mean squared error:\", rmse)"
   ]
  },
  {
   "cell_type": "code",
   "execution_count": 10,
   "id": "63710db5-f6cc-4de1-863e-6903ef620ad5",
   "metadata": {},
   "outputs": [
    {
     "name": "stdout",
     "output_type": "stream",
     "text": [
      "Training accuracy: 0.7434997532004697\n"
     ]
    }
   ],
   "source": [
    "print(\"Training accuracy:\", lr.score(x_train, y_train))"
   ]
  },
  {
   "cell_type": "code",
   "execution_count": 11,
   "id": "ab1297e6-583e-44b6-9a27-adb1076db87f",
   "metadata": {},
   "outputs": [
    {
     "name": "stdout",
     "output_type": "stream",
     "text": [
      "Testing accuracy: 0.6761000049033604\n"
     ]
    }
   ],
   "source": [
    "print(\"Testing accuracy:\", lr.score(x_test, y_test))"
   ]
  },
  {
   "cell_type": "code",
   "execution_count": 12,
   "id": "8eaca22a-7273-4ae7-b60c-4654d2875a8c",
   "metadata": {},
   "outputs": [
    {
     "data": {
      "text/plain": [
       "<Axes: xlabel='medv'>"
      ]
     },
     "execution_count": 12,
     "metadata": {},
     "output_type": "execute_result"
    },
    {
     "data": {
      "image/png": "[encoded data removed]",
      "text/plain": [
       "<Figure size 640x480 with 1 Axes>"
      ]
     },
     "metadata": {},
     "output_type": "display_data"
    }
   ],
   "source": [
    "sns.regplot(x = y_test, y = y_pred, color = 'blue')"
   ]
  },
  {
   "cell_type": "code",
   "execution_count": null,
   "id": "ddbb9ad0-1bff-4f85-89c1-683b7eb8165e",
   "metadata": {},
   "outputs": [],
   "source": []
  }
 ],
 "metadata": {
  "kernelspec": {
   "display_name": "Python 3 (ipykernel)",
   "language": "python",
   "name": "python3"
  },
  "language_info": {
   "codemirror_mode": {
    "name": "ipython",
    "version": 3
   },
   "file_extension": ".py",
   "mimetype": "text/x-python",
   "name": "python",
   "nbconvert_exporter": "python",
   "pygments_lexer": "ipython3",
   "version": "3.11.7"
  }
 },
 "nbformat": 4,
 "nbformat_minor": 5
}
